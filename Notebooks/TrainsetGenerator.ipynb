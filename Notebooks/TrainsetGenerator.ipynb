{
  "nbformat": 4,
  "nbformat_minor": 0,
  "metadata": {
    "colab": {
      "name": "Untitled6.ipynb",
      "provenance": []
    },
    "kernelspec": {
      "name": "python3",
      "display_name": "Python 3"
    }
  },
  "cells": [
    {
      "cell_type": "code",
      "metadata": {
        "id": "VwWmj9Xrugz3"
      },
      "source": [
        "# Imports\n",
        "\n",
        "import pandas as pd\n",
        "import sys"
      ],
      "execution_count": 1,
      "outputs": []
    },
    {
      "cell_type": "code",
      "metadata": {
        "id": "jMV_hw5nuiTm"
      },
      "source": [
        "# Import dataset\n",
        "\n",
        "url = 'https://raw.githubusercontent.com/alexhg128/StocksClassifier/master/Dataset/processed_prices.csv'\n",
        "prices = pd.read_csv(url)\n",
        "\n",
        "sym_url = 'https://raw.githubusercontent.com/alexhg128/StocksClassifier/master/Dataset/securities.csv'\n",
        "securities = pd.read_csv(sym_url)"
      ],
      "execution_count": 2,
      "outputs": []
    },
    {
      "cell_type": "code",
      "metadata": {
        "id": "30HO6pQfuogu",
        "outputId": "6e0c4915-1b8e-417f-e0e8-bb5080184b1a",
        "colab": {
          "base_uri": "https://localhost:8080/"
        }
      },
      "source": [
        "def printProgress(c, t):\n",
        "  sys.stdout.write('\\r[')\n",
        "  x = int(c / t * 100)\n",
        "  for y in range(x):\n",
        "    sys.stdout.write('=')\n",
        "  for y in range(100 - x):\n",
        "    sys.stdout.write(' ')\n",
        "  sys.stdout.write('] ' + str(current) + '/' + str(total))\n",
        "\n",
        "acceptable_gains = [ 0.05, 0.10, 0.15, 0.20 ]\n",
        "\n",
        "pr = pd.DataFrame([], columns=[\n",
        "    'date', 'symbol', 'open', 'close', 'low', 'high', 'volume', 'eps', 'pe',\n",
        "    'yield1', 'yield3', 'yield6', 'yield12', 'ma50', 'ma200', 'ma300', 'rec',\n",
        "    'term', 'gain', 'symid'\n",
        "])\n",
        "\n",
        "total = prices.shape[0]\n",
        "current = 0\n",
        "\n",
        "for k, p in prices.iterrows():\n",
        "  id = securities.index[securities['Ticker symbol'] == p['symbol']].tolist()[0]\n",
        "  for g in acceptable_gains:\n",
        "    # ST = 3\n",
        "    choiceST = 0\n",
        "    if (p['hi91'] / p['close']) - g > 1:\n",
        "      choiceST = 1\n",
        "\n",
        "    # MT = 6\n",
        "    choiceMT = 0\n",
        "    if (p['hi182'] / p['close']) - g > 1:\n",
        "      choiceMT = 1\n",
        "\n",
        "    # LT = 12\n",
        "    choiceLT = 0\n",
        "    if (p['hi365'] / p['close']) - g > 1:\n",
        "      choiceLT = 1\n",
        "\n",
        "    ST = pd.Series([\n",
        "                      p['date'], p['symbol'], p['open'], p['close'], p['low'],\n",
        "                      p['high'], p['volume'], p['eps'], p['pe'], p['yield1'],\n",
        "                      p['yield3'], p['yield6'], p['yield12'], p['ma50'], \n",
        "                      p['ma200'], p['ma300'], choiceST, 3, g, id\n",
        "                  ],\n",
        "                  index=[\n",
        "                      'date', 'symbol', 'open', 'close', 'low', 'high', 'volume', 'eps', 'pe',\n",
        "                      'yield1', 'yield3', 'yield6', 'yield12', 'ma50', 'ma200', 'ma300', 'rec',\n",
        "                      'term', 'gain', 'symid'\n",
        "                  ])\n",
        "    MT = pd.Series([\n",
        "                      p['date'], p['symbol'], p['open'], p['close'], p['low'],\n",
        "                      p['high'], p['volume'], p['eps'], p['pe'], p['yield1'],\n",
        "                      p['yield3'], p['yield6'], p['yield12'], p['ma50'], \n",
        "                      p['ma200'], p['ma300'], choiceMT, 6, g, id\n",
        "                  ],\n",
        "                  index=[\n",
        "                      'date', 'symbol', 'open', 'close', 'low', 'high',\n",
        "                      'volume', 'eps', 'pe', 'yield1', 'yield3', 'yield6',\n",
        "                      'yield12', 'ma50', 'ma200', 'ma300', 'rec', 'term', 'gain', 'symid'\n",
        "                  ])\n",
        "    LT = pd.Series([\n",
        "                      p['date'], p['symbol'], p['open'], p['close'], p['low'],\n",
        "                      p['high'], p['volume'], p['eps'], p['pe'], p['yield1'],\n",
        "                      p['yield3'], p['yield6'], p['yield12'], p['ma50'], \n",
        "                      p['ma200'], p['ma300'], choiceLT, 12, g, id\n",
        "                  ],\n",
        "                  index=[\n",
        "                      'date', 'symbol', 'open', 'close', 'low', 'high',\n",
        "                      'volume', 'eps', 'pe', 'yield1', 'yield3', 'yield6',\n",
        "                      'yield12', 'ma50', 'ma200', 'ma300', 'rec', 'term', 'gain', 'symid'\n",
        "                  ])\n",
        "    pr = pr.append(ST, ignore_index=True)\n",
        "    pr = pr.append(MT, ignore_index=True)\n",
        "    pr = pr.append(LT, ignore_index=True)\n",
        "  current += 1\n",
        "  printProgress(current, total)"
      ],
      "execution_count": 3,
      "outputs": [
        {
          "output_type": "stream",
          "text": [
            "[====================================================================================================] 1007/1007"
          ],
          "name": "stdout"
        }
      ]
    },
    {
      "cell_type": "code",
      "metadata": {
        "id": "K4jVFs3Wuu0i",
        "outputId": "99aaf0d2-3bb7-4cbc-ffa9-60a956a67e5e",
        "colab": {
          "base_uri": "https://localhost:8080/",
          "height": 17
        }
      },
      "source": [
        "from google.colab import files\n",
        "pr.to_csv('train_set.csv') \n",
        "files.download('train_set.csv')"
      ],
      "execution_count": 4,
      "outputs": [
        {
          "output_type": "display_data",
          "data": {
            "application/javascript": [
              "\n",
              "    async function download(id, filename, size) {\n",
              "      if (!google.colab.kernel.accessAllowed) {\n",
              "        return;\n",
              "      }\n",
              "      const div = document.createElement('div');\n",
              "      const label = document.createElement('label');\n",
              "      label.textContent = `Downloading \"${filename}\": `;\n",
              "      div.appendChild(label);\n",
              "      const progress = document.createElement('progress');\n",
              "      progress.max = size;\n",
              "      div.appendChild(progress);\n",
              "      document.body.appendChild(div);\n",
              "\n",
              "      const buffers = [];\n",
              "      let downloaded = 0;\n",
              "\n",
              "      const channel = await google.colab.kernel.comms.open(id);\n",
              "      // Send a message to notify the kernel that we're ready.\n",
              "      channel.send({})\n",
              "\n",
              "      for await (const message of channel.messages) {\n",
              "        // Send a message to notify the kernel that we're ready.\n",
              "        channel.send({})\n",
              "        if (message.buffers) {\n",
              "          for (const buffer of message.buffers) {\n",
              "            buffers.push(buffer);\n",
              "            downloaded += buffer.byteLength;\n",
              "            progress.value = downloaded;\n",
              "          }\n",
              "        }\n",
              "      }\n",
              "      const blob = new Blob(buffers, {type: 'application/binary'});\n",
              "      const a = document.createElement('a');\n",
              "      a.href = window.URL.createObjectURL(blob);\n",
              "      a.download = filename;\n",
              "      div.appendChild(a);\n",
              "      a.click();\n",
              "      div.remove();\n",
              "    }\n",
              "  "
            ],
            "text/plain": [
              "<IPython.core.display.Javascript object>"
            ]
          },
          "metadata": {
            "tags": []
          }
        },
        {
          "output_type": "display_data",
          "data": {
            "application/javascript": [
              "download(\"download_800ce9ad-14a2-46c2-aea5-36a8c67784b6\", \"train_set.csv\", 2792169)"
            ],
            "text/plain": [
              "<IPython.core.display.Javascript object>"
            ]
          },
          "metadata": {
            "tags": []
          }
        }
      ]
    }
  ]
}