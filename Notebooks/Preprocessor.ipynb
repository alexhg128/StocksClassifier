{
  "nbformat": 4,
  "nbformat_minor": 0,
  "metadata": {
    "colab": {
      "name": "Untitled2.ipynb",
      "provenance": []
    },
    "kernelspec": {
      "name": "python3",
      "display_name": "Python 3"
    }
  },
  "cells": [
    {
      "cell_type": "code",
      "metadata": {
        "id": "fOKLyx46WJt5"
      },
      "source": [
        "# Imports\n",
        "\n",
        "import pandas as pd"
      ],
      "execution_count": 2,
      "outputs": []
    },
    {
      "cell_type": "code",
      "metadata": {
        "id": "Ws41oNiuWS6q"
      },
      "source": [
        "# Dataset Imports\n",
        "\n",
        "fundamentals_url = 'https://raw.githubusercontent.com/alexhg128/StocksClassifier/master/Dataset/fundamentals.csv'\n",
        "prices_url = 'https://raw.githubusercontent.com/alexhg128/StocksClassifier/master/Dataset/prices-split-adjusted.csv'\n",
        "securities_url = 'https://raw.githubusercontent.com/alexhg128/StocksClassifier/master/Dataset/securities.csv'\n",
        "\n",
        "fundamentals = pd.read_csv(fundamentals_url)\n",
        "prices = pd.read_csv(prices_url)\n",
        "securities = pd.read_csv(securities_url)"
      ],
      "execution_count": 3,
      "outputs": []
    },
    {
      "cell_type": "code",
      "metadata": {
        "id": "r68DikJ1WTlk"
      },
      "source": [
        "prices['date'] = pd.to_datetime(prices['date'])\n",
        "fundamentals['Period Ending'] = pd.to_datetime(fundamentals['Period Ending'])"
      ],
      "execution_count": 4,
      "outputs": []
    },
    {
      "cell_type": "code",
      "metadata": {
        "id": "J8n6rTIlWX4a"
      },
      "source": [
        "prices_per_symbol = []\n",
        "fundamentals_per_symbol = []\n",
        "\n",
        "for i, s in securities.iterrows():\n",
        "  prices_per_symbol.append(prices.loc[prices['symbol'] == s['Ticker symbol']])\n",
        "  fundamentals_per_symbol.append(fundamentals.loc[fundamentals['Ticker Symbol'] == s['Ticker symbol']])"
      ],
      "execution_count": 5,
      "outputs": []
    },
    {
      "cell_type": "code",
      "metadata": {
        "id": "vkmXREU2Wa5L"
      },
      "source": [
        "year = pd.Timedelta(365, 'days')\n",
        "months_1 = pd.Timedelta(30, 'days')\n",
        "months_3 = pd.Timedelta(91, 'days')\n",
        "months_6 = pd.Timedelta(182, 'days')\n",
        "days_5 = pd.Timedelta(5, 'days')\n",
        "\n",
        "days_50 = pd.Timedelta(50, 'days')\n",
        "days_200 = pd.Timedelta(200, 'days')\n",
        "days_300 = pd.Timedelta(300, 'days')\n",
        "\n",
        "for i in range(len(prices_per_symbol)):\n",
        "  min_price_date = prices_per_symbol[i]['date'].min()\n",
        "  max_price_date = prices_per_symbol[i]['date'].max()\n",
        "  min_fun_date = fundamentals_per_symbol[i]['Period Ending'].min()\n",
        "  max_fun_date = fundamentals_per_symbol[i]['Period Ending'].max()\n",
        "\n",
        "  min_date = max(min_price_date, min_fun_date) + year\n",
        "  max_date = min(max_price_date, max_fun_date) - year\n",
        "\n",
        "  filter = prices_per_symbol[i].loc[(prices_per_symbol[i]['date'] >= min_date) & (prices_per_symbol[i]['date'] < max_date)]\n",
        "\n",
        "  for k, p in filter.iterrows():\n",
        "    try:\n",
        "      eps = fundamentals_per_symbol[i].loc[(fundamentals_per_symbol[i]['Period Ending'] >= p['date']) & (fundamentals_per_symbol[i]['Period Ending'] >= p['date'] - days_5)].iloc[0]['Earnings Per Share']\n",
        "      prices.loc[k, 'eps'] = eps\n",
        "      pe = p['close'] / eps\n",
        "      prices.loc[k, 'pe'] = pe\n",
        "\n",
        "      price_1 = prices_per_symbol[i].loc[(prices_per_symbol[i]['date'] >= (p['date'] - months_1)) & (prices_per_symbol[i]['date'] >= (p['date'] - months_1 + days_5))].iloc[0]['close']\n",
        "      price_3 = prices_per_symbol[i].loc[(prices_per_symbol[i]['date'] >= (p['date'] - months_3)) & (prices_per_symbol[i]['date'] >= (p['date'] - months_3 + days_5))].iloc[0]['close']\n",
        "      price_6 = prices_per_symbol[i].loc[(prices_per_symbol[i]['date'] >= (p['date'] - months_6)) & (prices_per_symbol[i]['date'] >= (p['date'] - months_6 + days_5))].iloc[0]['close']\n",
        "      price_12 = prices_per_symbol[i].loc[(prices_per_symbol[i]['date'] >= (p['date'] - year)) & (prices_per_symbol[i]['date'] >= (p['date'] - year + days_5))].iloc[0]['close']\n",
        "\n",
        "      yield_1 = p['close'] / price_1 * 100\n",
        "      yield_3 = p['close'] / price_3 * 100\n",
        "      yield_6 = p['close'] / price_6 * 100\n",
        "      yield_12 = p['close'] / price_12 * 100\n",
        "\n",
        "      prices.loc[k, 'yield1'] = yield_1 - 100\n",
        "      prices.loc[k, 'yield3'] = yield_3 - 100\n",
        "      prices.loc[k, 'yield6'] =  yield_6 - 100\n",
        "      prices.loc[k, 'yield12'] = yield_12 - 100\n",
        "\n",
        "      last_50 = prices_per_symbol[i].loc[(prices_per_symbol[i]['date'] >= (p['date'] - days_50)) & (prices_per_symbol[i]['date'] <= p['date'])]['close'].mean()\n",
        "      last_200 = prices_per_symbol[i].loc[(prices_per_symbol[i]['date'] >= (p['date'] - days_200)) & (prices_per_symbol[i]['date'] <= p['date'])]['close'].mean()\n",
        "      last_300 = prices_per_symbol[i].loc[(prices_per_symbol[i]['date'] >= (p['date'] - days_300)) & (prices_per_symbol[i]['date'] <= p['date'])]['close'].mean()\n",
        "\n",
        "      prices.loc[k, 'ma50'] = last_50\n",
        "      prices.loc[k, 'ma200'] = last_200\n",
        "      prices.loc[k, 'ma300'] =  last_300\n",
        "\n",
        "      next_3 = prices_per_symbol[i].loc[(prices_per_symbol[i]['date'] >= p['date']) & (prices_per_symbol[i]['date'] <= (p['date'] + months_3))]\n",
        "      next_6 = prices_per_symbol[i].loc[(prices_per_symbol[i]['date'] >= p['date']) & (prices_per_symbol[i]['date'] <= (p['date'] + months_6))]\n",
        "      next_12 = prices_per_symbol[i].loc[(prices_per_symbol[i]['date'] >= p['date']) & (prices_per_symbol[i]['date'] <= (p['date'] + year))]\n",
        "\n",
        "      prices.loc[k, 'hi91'] = next_3['high'].max()\n",
        "      prices.loc[k, 'hi182'] = next_6['high'].max()\n",
        "      prices.loc[k, 'hi365'] = next_12['high'].max()\n",
        "\n",
        "      prices.loc[k, 'lo91'] = next_3['low'].min()\n",
        "      prices.loc[k, 'lo182'] = next_6['low'].min()\n",
        "      prices.loc[k, 'lo365'] = next_12['low'].min()\n",
        "    except:\n",
        "      pass"
      ],
      "execution_count": 6,
      "outputs": []
    },
    {
      "cell_type": "code",
      "metadata": {
        "id": "BI1qzXVRWgj4"
      },
      "source": [
        "final_prices = prices[prices['eps'].notna()]"
      ],
      "execution_count": 7,
      "outputs": []
    },
    {
      "cell_type": "code",
      "metadata": {
        "id": "eBvYwE2GWhTv",
        "outputId": "3c85a43a-1944-4e81-b090-cb0a1fb5c9d1",
        "colab": {
          "base_uri": "https://localhost:8080/",
          "height": 17
        }
      },
      "source": [
        "from google.colab import files\n",
        "final_prices.to_csv('processed_prices.csv') \n",
        "files.download('processed_prices.csv')"
      ],
      "execution_count": 8,
      "outputs": [
        {
          "output_type": "display_data",
          "data": {
            "application/javascript": [
              "\n",
              "    async function download(id, filename, size) {\n",
              "      if (!google.colab.kernel.accessAllowed) {\n",
              "        return;\n",
              "      }\n",
              "      const div = document.createElement('div');\n",
              "      const label = document.createElement('label');\n",
              "      label.textContent = `Downloading \"${filename}\": `;\n",
              "      div.appendChild(label);\n",
              "      const progress = document.createElement('progress');\n",
              "      progress.max = size;\n",
              "      div.appendChild(progress);\n",
              "      document.body.appendChild(div);\n",
              "\n",
              "      const buffers = [];\n",
              "      let downloaded = 0;\n",
              "\n",
              "      const channel = await google.colab.kernel.comms.open(id);\n",
              "      // Send a message to notify the kernel that we're ready.\n",
              "      channel.send({})\n",
              "\n",
              "      for await (const message of channel.messages) {\n",
              "        // Send a message to notify the kernel that we're ready.\n",
              "        channel.send({})\n",
              "        if (message.buffers) {\n",
              "          for (const buffer of message.buffers) {\n",
              "            buffers.push(buffer);\n",
              "            downloaded += buffer.byteLength;\n",
              "            progress.value = downloaded;\n",
              "          }\n",
              "        }\n",
              "      }\n",
              "      const blob = new Blob(buffers, {type: 'application/binary'});\n",
              "      const a = document.createElement('a');\n",
              "      a.href = window.URL.createObjectURL(blob);\n",
              "      a.download = filename;\n",
              "      div.appendChild(a);\n",
              "      a.click();\n",
              "      div.remove();\n",
              "    }\n",
              "  "
            ],
            "text/plain": [
              "<IPython.core.display.Javascript object>"
            ]
          },
          "metadata": {
            "tags": []
          }
        },
        {
          "output_type": "display_data",
          "data": {
            "application/javascript": [
              "download(\"download_a00750e4-4689-4705-97de-58e2ce13941d\", \"processed_prices.csv\", 286160)"
            ],
            "text/plain": [
              "<IPython.core.display.Javascript object>"
            ]
          },
          "metadata": {
            "tags": []
          }
        }
      ]
    }
  ]
}