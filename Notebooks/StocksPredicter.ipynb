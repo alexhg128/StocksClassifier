{
  "nbformat": 4,
  "nbformat_minor": 0,
  "metadata": {
    "colab": {
      "name": "StocksPredicter.ipynb",
      "provenance": []
    },
    "kernelspec": {
      "name": "python3",
      "display_name": "Python 3"
    }
  },
  "cells": [
    {
      "cell_type": "code",
      "metadata": {
        "id": "J9vgymyHtrpN",
        "outputId": "8ffd0a08-0b1c-42a4-b4a9-0de982d1e2d7",
        "colab": {
          "base_uri": "https://localhost:8080/"
        }
      },
      "source": [
        "!pip install yfinance"
      ],
      "execution_count": 22,
      "outputs": [
        {
          "output_type": "stream",
          "text": [
            "Requirement already satisfied: yfinance in /usr/local/lib/python3.6/dist-packages (0.1.55)\n",
            "Requirement already satisfied: pandas>=0.24 in /usr/local/lib/python3.6/dist-packages (from yfinance) (1.1.4)\n",
            "Requirement already satisfied: requests>=2.20 in /usr/local/lib/python3.6/dist-packages (from yfinance) (2.23.0)\n",
            "Requirement already satisfied: numpy>=1.15 in /usr/local/lib/python3.6/dist-packages (from yfinance) (1.18.5)\n",
            "Requirement already satisfied: multitasking>=0.0.7 in /usr/local/lib/python3.6/dist-packages (from yfinance) (0.0.9)\n",
            "Requirement already satisfied: lxml>=4.5.1 in /usr/local/lib/python3.6/dist-packages (from yfinance) (4.6.1)\n",
            "Requirement already satisfied: python-dateutil>=2.7.3 in /usr/local/lib/python3.6/dist-packages (from pandas>=0.24->yfinance) (2.8.1)\n",
            "Requirement already satisfied: pytz>=2017.2 in /usr/local/lib/python3.6/dist-packages (from pandas>=0.24->yfinance) (2018.9)\n",
            "Requirement already satisfied: urllib3!=1.25.0,!=1.25.1,<1.26,>=1.21.1 in /usr/local/lib/python3.6/dist-packages (from requests>=2.20->yfinance) (1.24.3)\n",
            "Requirement already satisfied: idna<3,>=2.5 in /usr/local/lib/python3.6/dist-packages (from requests>=2.20->yfinance) (2.10)\n",
            "Requirement already satisfied: certifi>=2017.4.17 in /usr/local/lib/python3.6/dist-packages (from requests>=2.20->yfinance) (2020.6.20)\n",
            "Requirement already satisfied: chardet<4,>=3.0.2 in /usr/local/lib/python3.6/dist-packages (from requests>=2.20->yfinance) (3.0.4)\n",
            "Requirement already satisfied: six>=1.5 in /usr/local/lib/python3.6/dist-packages (from python-dateutil>=2.7.3->pandas>=0.24->yfinance) (1.15.0)\n",
            "Requirement already satisfied: urllib3 in /usr/local/lib/python3.6/dist-packages (1.24.3)\n"
          ],
          "name": "stdout"
        }
      ]
    },
    {
      "cell_type": "code",
      "metadata": {
        "id": "Dak1W72QtifR"
      },
      "source": [
        "import yfinance as yf\n",
        "import urllib\n",
        "from bs4 import BeautifulSoup\n",
        "import pandas as pd\n",
        "import tensorflow as tf\n",
        "from tensorflow import keras\n",
        "import numpy as np\n",
        "import matplotlib.pyplot as plt\n",
        "import requests\n",
        "import os.path\n",
        "from os import path"
      ],
      "execution_count": 135,
      "outputs": []
    },
    {
      "cell_type": "code",
      "metadata": {
        "id": "xy0Fxzn4S65u"
      },
      "source": [
        "pd.options.mode.chained_assignment = None"
      ],
      "execution_count": 136,
      "outputs": []
    },
    {
      "cell_type": "code",
      "metadata": {
        "id": "pkAmJ2Jk0Zxj"
      },
      "source": [
        "symbol = 'aapl'\n",
        "term = 3\n",
        "gain = 0.15"
      ],
      "execution_count": 77,
      "outputs": []
    },
    {
      "cell_type": "code",
      "metadata": {
        "id": "f8Ybusd5OQ1I"
      },
      "source": [
        "def loadData(symbol, term, gain):\n",
        "  stock = yf.Ticker(symbol)\n",
        "  # Get Stock price history\n",
        "  history = stock.history(period=\"2y\")\n",
        "  history = history.reset_index()\n",
        "  # Get Stock financiales\n",
        "  url = 'https://www.marketwatch.com/investing/stock/' + symbol + '/financials/income/quarter'\n",
        "  text_soup = BeautifulSoup(urllib.request.urlopen(url).read())\n",
        "  dates = []\n",
        "  eps = []\n",
        "  titles = text_soup.findAll('td', {'class': 'rowTitle'})\n",
        "  for title in titles:\n",
        "      if 'EPS (Basic)' in title.text:\n",
        "        eps = [td.text for td in title.findNextSiblings(attrs={'class': 'valueCell'}) if td.text]\n",
        "        break\n",
        "  titles2 = text_soup.findAll('th', {'class': 'rowTitle'})\n",
        "  for title in titles2:\n",
        "      if 'All values' in title.text:\n",
        "        dates = [td.text for td in title.findNextSiblings() if td.text]\n",
        "  dates = dates[:len(dates) - 1]\n",
        "  # Fill financials\n",
        "  data = { 'date': dates, 'eps': eps }\n",
        "  financials = pd.DataFrame(data)\n",
        "  financials['date'] = pd.to_datetime(financials['date'])\n",
        "  financials['eps'] = pd.to_numeric(financials['eps'])\n",
        "  # Calculate fields\n",
        "  last = history.iloc[-1]\n",
        "  year = pd.Timedelta(365, 'days')\n",
        "  months_1 = pd.Timedelta(30, 'days')\n",
        "  months_3 = pd.Timedelta(91, 'days')\n",
        "  months_6 = pd.Timedelta(182, 'days')\n",
        "  days_5 = pd.Timedelta(5, 'days')\n",
        "  days_50 = pd.Timedelta(50, 'days')\n",
        "  days_200 = pd.Timedelta(200, 'days')\n",
        "  days_300 = pd.Timedelta(300, 'days')\n",
        "  last['eps'] = financials.iloc[-1]['eps']\n",
        "  last['pe'] = last['Close'] / last['eps']\n",
        "  price_1 = history.loc[(history['Date'] >= (last['Date'] - months_1)) & (history['Date'] >= (last['Date'] - months_1 + days_5))].iloc[0]['Close']\n",
        "  price_3 = history.loc[(history['Date'] >= (last['Date'] - months_3)) & (history['Date'] >= (last['Date'] - months_3 + days_5))].iloc[0]['Close']\n",
        "  price_6 = history.loc[(history['Date'] >= (last['Date'] - months_6)) & (history['Date'] >= (last['Date'] - months_6 + days_5))].iloc[0]['Close']\n",
        "  price_12 = history.loc[(history['Date'] >= (last['Date'] - year)) & (history['Date'] >= (last['Date'] - year + days_5))].iloc[0]['Close']\n",
        "  yield_1 = last['Close'] / price_1 * 100\n",
        "  yield_3 = last['Close'] / price_3 * 100\n",
        "  yield_6 = last['Close'] / price_6 * 100\n",
        "  yield_12 = last['Close'] / price_12 * 100\n",
        "  last['yield1'] = yield_1 - 100\n",
        "  last['yield3'] = yield_3 - 100\n",
        "  last['yield6'] =  yield_6 - 100\n",
        "  last['yield12'] = yield_12 - 100\n",
        "  last_50 = history.loc[(history['Date'] >= (last['Date'] - days_50)) & (history['Date'] <= last['Date'])]['Close'].mean()\n",
        "  last_200 = history.loc[(history['Date'] >= (last['Date'] - days_200)) & (history['Date'] <= last['Date'])]['Close'].mean()\n",
        "  last_300 = history.loc[(history['Date'] >= (last['Date'] - days_300)) & (history['Date'] <= last['Date'])]['Close'].mean()\n",
        "  last['ma50'] = last_50 / last['Close']\n",
        "  last['ma200'] = last_200 / last['Close']\n",
        "  last['ma300'] =  last_300 / last['Close']\n",
        "  last['term'] = term\n",
        "  last['gain'] = gain\n",
        "  # Shape to final form\n",
        "  pr = last.drop('Date')\n",
        "  pr = pr.drop('Open')\n",
        "  pr = pr.drop('Close')\n",
        "  pr = pr.drop('High')\n",
        "  pr = pr.drop('Low')\n",
        "  pr = pr.drop('Volume')\n",
        "  pr = pr.drop('Dividends')\n",
        "  pr = pr.drop('Stock Splits')\n",
        "  return pr"
      ],
      "execution_count": 133,
      "outputs": []
    },
    {
      "cell_type": "code",
      "metadata": {
        "id": "WDDl55q4I7aY"
      },
      "source": [
        "def loadModel():\n",
        "  if not path.exists('model.h5'):\n",
        "    url = 'https://raw.githubusercontent.com/alexhg128/StocksClassifier/master/CompiledModels/stocks.h5'\n",
        "    r = requests.get(url, allow_redirects=True)\n",
        "    open('model.h5', 'wb').write(r.content)\n",
        "  return keras.models.load_model('model.h5')"
      ],
      "execution_count": 114,
      "outputs": []
    },
    {
      "cell_type": "code",
      "metadata": {
        "id": "77B-_cD8Q5uk"
      },
      "source": [
        "def intTryParse(value):\n",
        "    try:\n",
        "        return int(value), True\n",
        "    except ValueError:\n",
        "        return value, False\n",
        "\n",
        "def floatTryParse(value):\n",
        "    try:\n",
        "        return float(value), True\n",
        "    except ValueError:\n",
        "        return value, False"
      ],
      "execution_count": 107,
      "outputs": []
    },
    {
      "cell_type": "code",
      "metadata": {
        "id": "UpyaVU21WM4h"
      },
      "source": [
        "def plot_value_array(i, predictions_array):\n",
        "  plt.grid(False)\n",
        "  plt.xticks(range(2))\n",
        "  plt.yticks([])\n",
        "  thisplot = plt.bar(range(2), predictions_array, color=\"#777777\")\n",
        "  plt.ylim([0, 1])\n",
        "\n",
        "  thisplot[0].set_color('blue')\n",
        "  thisplot[1].set_color('blue')"
      ],
      "execution_count": 144,
      "outputs": []
    },
    {
      "cell_type": "code",
      "metadata": {
        "id": "84185E-d8W0h",
        "outputId": "e2dc840b-0f05-4c80-8273-2d9cea736ceb",
        "colab": {
          "base_uri": "https://localhost:8080/",
          "height": 540
        }
      },
      "source": [
        "labels = ['Sell', 'Buy']\n",
        "\n",
        "print('Enter stock symbol')\n",
        "symbol = input()\n",
        "\n",
        "print()\n",
        "print('Enter desired term (3/6/12)')\n",
        "term = input()\n",
        "\n",
        "print()\n",
        "print('Enter desired term (0.05/0.10/0.15/0.20)')\n",
        "gain = input()\n",
        "\n",
        "data = loadData(symbol.lower(), np.int64(term), np.float64(gain))\n",
        "model = loadModel()\n",
        "predictions = model.predict(np.asarray([data]).astype(np.float32))\n",
        "print()\n",
        "print('Recommendation: ' + labels[np.argmax(predictions[0])])\n",
        "print()\n",
        "print('Buy  -> ' + str(predictions[0][1]))\n",
        "print('Sell -> ' + str(predictions[0][0]))\n",
        "print()\n",
        "\n",
        "plot_value_array(0, predictions[0])\n",
        "plt.show()"
      ],
      "execution_count": 147,
      "outputs": [
        {
          "output_type": "stream",
          "text": [
            "Enter stock symbol\n",
            "GOOG\n",
            "\n",
            "Enter desired term (3/6/12)\n",
            "12\n",
            "\n",
            "Enter desired term (0.05/0.10/0.15/0.20)\n",
            "0.2\n",
            "WARNING:tensorflow:10 out of the last 10 calls to <function Model.make_predict_function.<locals>.predict_function at 0x7f0f171b2ae8> triggered tf.function retracing. Tracing is expensive and the excessive number of tracings could be due to (1) creating @tf.function repeatedly in a loop, (2) passing tensors with different shapes, (3) passing Python objects instead of tensors. For (1), please define your @tf.function outside of the loop. For (2), @tf.function has experimental_relax_shapes=True option that relaxes argument shapes that can avoid unnecessary retracing. For (3), please refer to https://www.tensorflow.org/tutorials/customization/performance#python_or_tensor_args and https://www.tensorflow.org/api_docs/python/tf/function for  more details.\n",
            "\n",
            "Recommendation: Sell\n",
            "\n",
            "Buy  -> 0.027340708\n",
            "Sell -> 0.97265935\n",
            "\n"
          ],
          "name": "stdout"
        },
        {
          "output_type": "display_data",
          "data": {
            "image/png": "[encoded data removed]",
            "text/plain": [
              "<Figure size 432x288 with 1 Axes>"
            ]
          },
          "metadata": {
            "tags": [],
            "needs_background": "light"
          }
        }
      ]
    }
  ]
}